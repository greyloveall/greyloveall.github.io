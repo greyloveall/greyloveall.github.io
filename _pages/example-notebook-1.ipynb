{
 "cells": [
  {
   "cell_type": "markdown",
   "id": "f5ed403d-dce8-4b0c-8800-2ab64635614c",
   "metadata": {},
   "source": [
    "An Example"
   ]
  },
  {
   "cell_type": "code",
   "execution_count": 1,
   "id": "1aad6277-166c-486a-a3a7-1fadd131fc2b",
   "metadata": {},
   "outputs": [
    {
     "name": "stdout",
     "output_type": "stream",
     "text": [
      "Hello world\n"
     ]
    }
   ],
   "source": [
    "print(\"Hello world\")"
   ]
  },
  {
   "cell_type": "code",
   "execution_count": null,
   "id": "4115a0f8-35ae-49d3-b9a8-efc46c72c061",
   "metadata": {},
   "outputs": [],
   "source": []
  }
 ],
 "metadata": {
  "kernelspec": {
   "display_name": "Python 3 (ipykernel)",
   "language": "python",
   "name": "python3"
  },
  "language_info": {
   "codemirror_mode": {
    "name": "ipython",
    "version": 3
   },
   "file_extension": ".py",
   "mimetype": "text/x-python",
   "name": "python",
   "nbconvert_exporter": "python",
   "pygments_lexer": "ipython3",
   "version": "3.12.7"
  }
 },
 "nbformat": 4,
 "nbformat_minor": 5
}
