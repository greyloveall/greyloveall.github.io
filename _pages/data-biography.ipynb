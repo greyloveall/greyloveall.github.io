{
 "cells": [
  {
   "cell_type": "markdown",
   "id": "9d103208-766f-4b87-ae98-1914e28032da",
   "metadata": {},
   "source": [
    "### Data Biography"
   ]
  },
  {
   "cell_type": "markdown",
   "id": "02cb30b9-fd02-4995-96b5-e9e3efec1b4d",
   "metadata": {},
   "source": [
    "This is my data biography."
   ]
  },
  {
   "cell_type": "code",
   "execution_count": null,
   "id": "5d0c01fc-301a-4d0b-8eea-bc4e9fe65500",
   "metadata": {},
   "outputs": [],
   "source": []
  }
 ],
 "metadata": {
  "kernelspec": {
   "display_name": "Python 3 (ipykernel)",
   "language": "python",
   "name": "python3"
  },
  "language_info": {
   "codemirror_mode": {
    "name": "ipython",
    "version": 3
   },
   "file_extension": ".py",
   "mimetype": "text/x-python",
   "name": "python",
   "nbconvert_exporter": "python",
   "pygments_lexer": "ipython3",
   "version": "3.12.7"
  }
 },
 "nbformat": 4,
 "nbformat_minor": 5
}
